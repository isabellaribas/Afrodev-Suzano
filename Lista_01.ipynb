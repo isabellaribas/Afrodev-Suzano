{
  "nbformat": 4,
  "nbformat_minor": 0,
  "metadata": {
    "colab": {
      "name": "1_Estrutura Sequencial.ipynb",
      "provenance": [],
      "collapsed_sections": []
    },
    "kernelspec": {
      "name": "python3",
      "display_name": "Python 3"
    },
    "language_info": {
      "name": "python"
    }
  },
  "cells": [
    {
      "cell_type": "markdown",
      "metadata": {
        "id": "s3h4XTy42l6y"
      },
      "source": [
        "##Estrutura Sequencial"
      ]
    },
    {
      "cell_type": "markdown",
      "metadata": {
        "id": "xiXySkgH7dwe"
      },
      "source": [
        "**Faça um Programa que peça um número e então mostre a mensagem:**\n",
        "\n",
        "#####O número informado foi [número]."
      ]
    },
    {
      "cell_type": "code",
      "metadata": {
        "id": "rlRavVZi8bS0",
        "colab": {
          "base_uri": "https://localhost:8080/"
        },
        "outputId": "d988a6c6-8e8c-42e9-a2f6-41c325b9e492"
      },
      "source": [
        "valor = input()\n",
        "print(\"O número informado {}\".format(valor))"
      ],
      "execution_count": null,
      "outputs": [
        {
          "output_type": "stream",
          "name": "stdout",
          "text": [
            "10\n",
            "O número informado 10\n"
          ]
        }
      ]
    },
    {
      "cell_type": "markdown",
      "metadata": {
        "id": "_Kl-2zy-8cNv"
      },
      "source": [
        "**Faça um Programa que peça dois números e imprima a soma.**"
      ]
    },
    {
      "cell_type": "code",
      "metadata": {
        "id": "CJlgEdLe3KLC",
        "colab": {
          "base_uri": "https://localhost:8080/"
        },
        "outputId": "56afbc39-d86a-42b9-eb8d-2cb2a1284368"
      },
      "source": [
        "numero1 = float(input('Digite o primeiro número: '))\n",
        "numero2 = float(input('Digite o segundo número: '))\n",
        "\n",
        "soma = numero1 + numero2\n",
        "\n",
        "print('A soma entre {:.0f} e {:.0f} é {:.0f}.'.format(numero1, numero2, soma))"
      ],
      "execution_count": null,
      "outputs": [
        {
          "output_type": "stream",
          "name": "stdout",
          "text": [
            "Digite o primeiro número: 5\n",
            "Digite o segundo número: 3\n",
            "A soma entre 5 e 3 é 8.\n"
          ]
        }
      ]
    },
    {
      "cell_type": "markdown",
      "metadata": {
        "id": "asSOCkv48hsr"
      },
      "source": [
        "**Faça um Programa que peça as 4 notas bimestrais e mostre a média.**"
      ]
    },
    {
      "cell_type": "code",
      "metadata": {
        "id": "q4BgyRbOR8xW",
        "colab": {
          "base_uri": "https://localhost:8080/"
        },
        "outputId": "f920a46c-9faa-41ce-e35a-4f5a17ebec8b"
      },
      "source": [
        "nota1 = float(input('Informe a nota do primeiro bimestre: '))\n",
        "nota2 = float(input('Informe a nota do segundo bimestre: '))\n",
        "nota3 = float(input('Informe a nota do terceiro bimestre: '))\n",
        "nota4 = float(input('Informe a nota do quarto bimestre: '))\n",
        "\n",
        "media = (nota1 + nota2 + nota3 + nota4) / 4\n",
        "\n",
        "print('\\nA média final do aluno é: {:.1f}.'.format(media))"
      ],
      "execution_count": null,
      "outputs": [
        {
          "output_type": "stream",
          "name": "stdout",
          "text": [
            "Informe a nota do primeiro bimestre: 6.3\n",
            "Informe a nota do segundo bimestre: 7.5\n",
            "Informe a nota do terceiro bimestre: 3.2\n",
            "Informe a nota do quarto bimestre: 9.7\n",
            "\n",
            "A média final do aluno é: 6.7.\n"
          ]
        }
      ]
    },
    {
      "cell_type": "markdown",
      "metadata": {
        "id": "ykRUV1Id8l8q"
      },
      "source": [
        "**Faça um Programa que converta metros para centímetros.**"
      ]
    },
    {
      "cell_type": "code",
      "metadata": {
        "id": "BHZPAdvt2aAq",
        "colab": {
          "base_uri": "https://localhost:8080/"
        },
        "outputId": "b2722c7b-5e86-4e3e-e0cc-e4cd2079210a"
      },
      "source": [
        "metros = float(input('Informe um valor em metros: '))\n",
        "\n",
        "centimetros = metros * 100\n",
        "\n",
        "print('\\nA conversão de {}m para centímetros é {}cm'.format(metros, centimetros))"
      ],
      "execution_count": null,
      "outputs": [
        {
          "output_type": "stream",
          "name": "stdout",
          "text": [
            "Informe um valor em metros: 1\n",
            "\n",
            "A conversão de 1.0m para centímetros é 100.0cm\n"
          ]
        }
      ]
    },
    {
      "cell_type": "markdown",
      "metadata": {
        "id": "H2UfEr398p_N"
      },
      "source": [
        "**Faça um Programa que peça o raio de um círculo, calcule e mostre sua área.**"
      ]
    },
    {
      "cell_type": "code",
      "metadata": {
        "id": "Fu1UfLa92p_O",
        "colab": {
          "base_uri": "https://localhost:8080/"
        },
        "outputId": "46528091-1ffe-4728-967d-45a4b4f7943c"
      },
      "source": [
        "raio = float(input('Informe o valor do raio: '))\n",
        "\n",
        "area = 3.14 * (raio**2)\n",
        "\n",
        "print('A área do círculo corresponde a: ', area)"
      ],
      "execution_count": null,
      "outputs": [
        {
          "output_type": "stream",
          "name": "stdout",
          "text": [
            "Informe o valor do raio: 5\n",
            "A área do círculo corresponde a:  78.5\n"
          ]
        }
      ]
    },
    {
      "cell_type": "markdown",
      "metadata": {
        "id": "vO9okcSq8txf"
      },
      "source": [
        "**Faça um Programa que calcule a área de um quadrado, em seguida mostre o dobro desta área para o usuário.**"
      ]
    },
    {
      "cell_type": "code",
      "metadata": {
        "id": "IrRGvkdl2sQ7",
        "colab": {
          "base_uri": "https://localhost:8080/"
        },
        "outputId": "8430acd7-112f-44d2-9d1c-0cdd78c1fae3"
      },
      "source": [
        "raio = float(input('Informe o valor do raio: '))\n",
        "\n",
        "area = 3.14 * (raio**2)\n",
        "dobroArea = area * 2\n",
        "\n",
        "print('A área do círculo corresponde a: ', area, '\\nE o dobro da área é: ', dobroArea)"
      ],
      "execution_count": null,
      "outputs": [
        {
          "output_type": "stream",
          "name": "stdout",
          "text": [
            "Informe o valor do raio: 5\n",
            "A área do círculo corresponde a:  78.5 \n",
            "E o dobro da área é:  157.0\n"
          ]
        }
      ]
    },
    {
      "cell_type": "markdown",
      "metadata": {
        "id": "eQjAPxZV9Y_U"
      },
      "source": [
        "**Faça um Programa que pergunte quanto você ganha por hora e o número de horas trabalhadas no mês. Calcule e mostre o total do seu salário no referido mês.**"
      ]
    },
    {
      "cell_type": "code",
      "metadata": {
        "id": "Y0rYrzfh9Xw5",
        "colab": {
          "base_uri": "https://localhost:8080/"
        },
        "outputId": "f2c64c53-09cb-4033-f51f-51bbae230370"
      },
      "source": [
        "valorHora = float(input('Quanto você ganha por hora? '))\n",
        "horasTrabalhadas = float(input('Quantas horas você trabalhou no mês? '))\n",
        "\n",
        "salario = valorHora * horasTrabalhadas\n",
        "\n",
        "print('O salário do referido mês foi: ', salario)"
      ],
      "execution_count": null,
      "outputs": [
        {
          "output_type": "stream",
          "name": "stdout",
          "text": [
            "Quanto você ganha por hora? 3.50\n",
            "Quantas horas você trabalhou no mês? 40\n",
            "O salário do referido mês foi:  140.0\n"
          ]
        }
      ]
    },
    {
      "cell_type": "markdown",
      "metadata": {
        "id": "rCvWU_do9eb7"
      },
      "source": [
        "**Faça um Programa que peça a temperatura em graus Fahrenheit, transforme e mostre a temperatura em graus Celsius.\n",
        "C = 5 * ((F-32) / 9).**"
      ]
    },
    {
      "cell_type": "code",
      "metadata": {
        "id": "6-F8JLJl9nWy",
        "colab": {
          "base_uri": "https://localhost:8080/"
        },
        "outputId": "97fff3a1-eb98-44a1-da79-7a712c352e61"
      },
      "source": [
        "temperaturaF = float(input('Favor inserir uma temperatura em graus Fahrenheit: '))\n",
        "celsius = 5 * ((temperaturaF - 32) / 9)\n",
        "\n",
        "print('\\nA conversão da temperatura inserida para graus Celsius é: {:.1f}{}'.format(celsius, \"°C\"))"
      ],
      "execution_count": null,
      "outputs": [
        {
          "output_type": "stream",
          "name": "stdout",
          "text": [
            "Favor inserir uma temperatura em graus Fahrenheit: 78.8\n",
            "\n",
            "A conversão da temperatura inserida para graus Celsius é: 26.0°C\n"
          ]
        }
      ]
    },
    {
      "cell_type": "markdown",
      "metadata": {
        "id": "wuNSOcEU9q82"
      },
      "source": [
        "**Faça um Programa que peça a temperatura em graus Celsius, transforme e mostre em graus Fahrenheit.**"
      ]
    },
    {
      "cell_type": "code",
      "metadata": {
        "id": "jFV9yA3W9vPA",
        "colab": {
          "base_uri": "https://localhost:8080/"
        },
        "outputId": "acfe5dc7-67bc-4d87-c6fe-3173c3619b75"
      },
      "source": [
        "temperaturaC = float(input('Favor inserir uma temperatura em graus Celsius: '))\n",
        "fahrenheit = (temperaturaC * 1.8) + 32\n",
        "\n",
        "print('\\nA conversão da temperatura inserida para graus Fahrenheit é: {:.1f}{}'.format(fahrenheit, \"°F\"))"
      ],
      "execution_count": null,
      "outputs": [
        {
          "output_type": "stream",
          "name": "stdout",
          "text": [
            "Favor inserir uma temperatura em graus Celsius: 26\n",
            "\n",
            "A conversão da temperatura inserida para graus Fahrenheit é: 78.8°F\n"
          ]
        }
      ]
    },
    {
      "cell_type": "markdown",
      "metadata": {
        "id": "rHenay-u9wSe"
      },
      "source": [
        "**Faça um Programa que peça 2 números inteiros e um número real. Calcule e mostre:**\n",
        "\n",
        "1. Produto do dobro do primeiro com metade do segundo.\n",
        "2. Soma do triplo do primeiro com o terceiro.\n",
        "3. Terceiro elevado ao cubo.\n"
      ]
    },
    {
      "cell_type": "code",
      "metadata": {
        "id": "YnLaFKWE94sM",
        "colab": {
          "base_uri": "https://localhost:8080/"
        },
        "outputId": "c3254829-0438-4ade-9b85-6cf87c554b87"
      },
      "source": [
        "numero1 = int(input('Favor inserir um número inteiro: '))\n",
        "numero2 = int(input('Favor inserir outro número inteiro: '))\n",
        "numero3 = float(input('Favor inserir um número real: '))\n",
        "\n",
        "questao1 = (numero1 * 2) + (numero2 / 2)\n",
        "\n",
        "questao2 = (numero1 * 3) + numero3\n",
        "\n",
        "questao3 = numero3 ** 3\n",
        "\n",
        "print('\\nO produto do dobro do primeiro com metade do segundo é: ', questao1)\n",
        "print('\\nA soma do triplo do primeiro com o terceiro é: ', questao2)\n",
        "print('\\nO terceiro elevado ao cubo é: ', questao3)"
      ],
      "execution_count": null,
      "outputs": [
        {
          "output_type": "stream",
          "name": "stdout",
          "text": [
            "Favor inserir um número inteiro: 2\n",
            "Favor inserir outro número inteiro: 5\n",
            "Favor inserir um número real: 4.5\n",
            "\n",
            "O produto do dobro do primeiro com metade do segundo é:  6.5\n",
            "\n",
            "A soma do triplo do primeiro com o terceiro é:  10.5\n",
            "\n",
            "O terceiro elevado ao cubo é:  91.125\n"
          ]
        }
      ]
    },
    {
      "cell_type": "markdown",
      "metadata": {
        "id": "Pp-vVCNC-M9n"
      },
      "source": [
        "**Tendo como dados de entrada a altura de uma pessoa, construa um algoritmo que calcule seu peso ideal, usando a seguinte fórmula: (72.7*altura) - 58**"
      ]
    },
    {
      "cell_type": "code",
      "metadata": {
        "id": "elpHlKHR-TEW",
        "colab": {
          "base_uri": "https://localhost:8080/"
        },
        "outputId": "864b0143-b67a-4fc8-bb3f-c4410712248f"
      },
      "source": [
        "altura = float(input('Digite sua altura: '))\n",
        "\n",
        "pesoIdeal = (72.7 * altura) - 58\n",
        "\n",
        "print('\\nSeu peso ideal é: {:.3f}{}'.format(pesoIdeal, \"kg\"))"
      ],
      "execution_count": null,
      "outputs": [
        {
          "output_type": "stream",
          "name": "stdout",
          "text": [
            "Digite sua altura: 1.64\n",
            "\n",
            "Seu peso ideal é: 61.228kg\n"
          ]
        }
      ]
    },
    {
      "cell_type": "markdown",
      "metadata": {
        "id": "9DDiGIya-Tu3"
      },
      "source": [
        "**Tendo como dado de entrada a altura (h) de uma pessoa, construa um algoritmo que calcule seu peso ideal, utilizando as seguintes fórmulas:**\n",
        "1. Para homens: (72.7*h) - 58\n",
        "2. Para mulheres: (62.1*h) - 44.7"
      ]
    },
    {
      "cell_type": "code",
      "metadata": {
        "id": "Yj8Aur0f-fot",
        "colab": {
          "base_uri": "https://localhost:8080/"
        },
        "outputId": "0d93219b-02f1-4dbc-a2ca-f1d46fbda8c3"
      },
      "source": [
        "altura = float(input('Digite sua altura: '))\n",
        "genero = input('Digite M se seu gênero for masculino ou F se for feminino: ')\n",
        "print()\n",
        "\n",
        "if genero == \"F\":\n",
        "  pesoMulher = (62.1 * altura) - 44.7\n",
        "  print('Seu peso ideal é: {:.3f}{}'.format(pesoMulher, \"kg\"))\n",
        "elif genero == \"M\":\n",
        "  pesoHomem = (72.7 * altura) - 58\n",
        "  print('Seu peso ideal é: {:.3f}{}'.format(pesoHomem, \"kg\"))\n",
        "else:\n",
        "  print('O gênero informado está inválido. Por favor digite M para masculino ou F para Feminino.')"
      ],
      "execution_count": null,
      "outputs": [
        {
          "output_type": "stream",
          "name": "stdout",
          "text": [
            "Digite sua altura: 1.64\n",
            "Digite M se seu gênero for masculino ou F se for feminino: J\n",
            "\n",
            "O gênero informado está inválido. Por favor digite M para masculino ou F para Feminino.\n"
          ]
        }
      ]
    },
    {
      "cell_type": "markdown",
      "metadata": {
        "id": "luMJHwGe-i8c"
      },
      "source": [
        "**João Papo-de-Pescador, homem de bem, comprou um microcomputador para controlar o rendimento diário de seu trabalho. Toda vez que ele traz um peso de peixes maior que o estabelecido pelo regulamento de pesca do estado de São Paulo (50 quilos) deve pagar uma multa de R$ 4,00 por quilo excedente. João precisa que você faça um programa que leia a variável peso (peso de peixes) e calcule o excesso. Gravar na variável excesso a quantidade de quilos além do limite e na variável multa o valor da multa que João deverá pagar. Imprima os dados do programa com as mensagens adequadas.**"
      ]
    },
    {
      "cell_type": "code",
      "metadata": {
        "id": "BOnYi7Ki-tlF",
        "colab": {
          "base_uri": "https://localhost:8080/"
        },
        "outputId": "28c4afdb-b314-4d0b-f5fd-4dd69d778100"
      },
      "source": [
        "pesoPeixes = int(input('Digite o peso de peixes de deseja calcular: '))\n",
        "excesso = pesoPeixes - 50\n",
        "multa = excesso * 4\n",
        "\n",
        "print()\n",
        "print('O valor excedente corresponde a: ', excesso, \"kg\")\n",
        "print('A multa será de: R$', multa)"
      ],
      "execution_count": null,
      "outputs": [
        {
          "output_type": "stream",
          "name": "stdout",
          "text": [
            "Digite o peso de peixes de deseja calcular: 100\n",
            "\n",
            "O valor excedente corresponde a:  50 kg\n",
            "A multa será de: R$ 200\n"
          ]
        }
      ]
    },
    {
      "cell_type": "markdown",
      "metadata": {
        "id": "GOv4mU5T-uNy"
      },
      "source": [
        "**Faça um Programa que pergunte quanto você ganha por hora e o número de horas trabalhadas no mês. Calcule e mostre o total do seu salário no referido mês, sabendo-se que são descontados 11% para o Imposto de Renda, 8% para o INSS e 5% para o sindicato, faça um programa que nos dê:**\n",
        "\n",
        "1. salário bruto.\n",
        "2. quanto pagou ao INSS.\n",
        "3. quanto pagou ao sindicato.\n",
        "4. o salário líquido.\n",
        "5. calcule os descontos e o salário líquido, conforme a tabela abaixo:\n",
        "\n",
        "```\n",
        "+ Salário Bruto : R$\n",
        "- IR (11%) : R$\n",
        "- INSS (8%) : R$\n",
        "- Sindicato ( 5%) : R$\n",
        "= Salário Liquido : R$\n",
        "```\n",
        "*Obs.: Salário Bruto - Descontos = Salário Líquido.*\n"
      ]
    },
    {
      "cell_type": "code",
      "metadata": {
        "id": "BpJrcHmA_WeV",
        "colab": {
          "base_uri": "https://localhost:8080/"
        },
        "outputId": "93318b8e-085f-4b24-faa3-33db22624e9d"
      },
      "source": [
        "valorHora = float(input('Quanto você ganha por hora? '))\n",
        "horasTrabalhadas = float(input('Quantas horas você trabalhou no mês? '))\n",
        "\n",
        "salarioBruto = valorHora * horasTrabalhadas\n",
        "ir = salarioBruto * 0.11\n",
        "inss = salarioBruto * 0.08\n",
        "sindicato = salarioBruto * 0.05\n",
        "salarioLiquido = salarioBruto - ir - inss - sindicato\n",
        "\n",
        "print('\\nSeu salário bruto é: R$', salarioBruto)\n",
        "print('\\nO desconto refente ao importo de renda foi de: R$', ir)\n",
        "print('\\nO desconto referente ao INSS foi de: R$', inss)\n",
        "print('\\nO desconto referente ao sindicato foi de: R$', sindicato)\n",
        "print('\\nSeu salário líquido é: R$', salarioLiquido)\n"
      ],
      "execution_count": null,
      "outputs": [
        {
          "output_type": "stream",
          "name": "stdout",
          "text": [
            "Quanto você ganha por hora? 36\n",
            "Quantas horas você trabalhou no mês? 174\n",
            "\n",
            "Seu salário bruto é: R$ 6264.0\n",
            "\n",
            "O desconto refente ao importo de renda foi de: R$ 689.04\n",
            "\n",
            "O desconto referente ao INSS foi de: R$ 501.12\n",
            "\n",
            "O desconto referente ao sindicato foi de: R$ 313.20000000000005\n",
            "\n",
            "Seu salário líquido é: R$ 4760.64\n"
          ]
        }
      ]
    },
    {
      "cell_type": "markdown",
      "metadata": {
        "id": "3wsz_2Tt_XIN"
      },
      "source": [
        "**Faça um programa para uma loja de tintas. O programa deverá pedir o tamanho em metros quadrados da área a ser pintada. Considere que a cobertura da tinta é de 1 litro para cada 3 metros quadrados e que a tinta é vendida em latas de 18 litros, que custam R$ 80,00. Informe ao usuário a quantidades de latas de tinta a serem compradas e o preço total.**"
      ]
    },
    {
      "cell_type": "code",
      "metadata": {
        "id": "sWHBxGcc_e9t",
        "colab": {
          "base_uri": "https://localhost:8080/"
        },
        "outputId": "70c04c23-92de-41f5-b149-0056556bc4fe"
      },
      "source": [
        "# primeiro pensamento\n",
        "\n",
        "areaPintada = float(input('Qual o tamanho em metros quadrados da area a ser pintada? '))\n",
        "litros = areaPintada / 3\n",
        "umaLata = 18\n",
        "precoL = 80\n",
        "\n",
        "latas = litros / umaLata\n",
        "\n",
        "totalPreco = latas * precoL\n",
        "\n",
        "print('')\n",
        "print('Você irá precisar de {:.1f} latas de tinta.'.format(latas))\n",
        "print('O preço total é de R${:.2f}.'.format(totalPreco))\n"
      ],
      "execution_count": null,
      "outputs": [
        {
          "output_type": "stream",
          "name": "stdout",
          "text": [
            "Qual o tamanho em metros quadrados da area a ser pintada? 200\n",
            "\n",
            "Você irá precisar de 3.7 latas de tinta.\n",
            "O preço total é de R$296.30.\n"
          ]
        }
      ]
    },
    {
      "cell_type": "code",
      "metadata": {
        "colab": {
          "base_uri": "https://localhost:8080/"
        },
        "id": "2JC8QX5ocyya",
        "outputId": "d81af573-ea7e-4263-98ac-848840da2f83"
      },
      "source": [
        "# segundo pensamento\n",
        "\n",
        "areaPintada = float(input('Qual o tamanho em metros quadrados da area a ser pintada? '))\n",
        "totalMetros = 54\n",
        "qtdLitrosLata = 18\n",
        "precoLata = 80\n",
        "\n",
        "qtdLatas = areaPintada / 54\n",
        "\n",
        "precoTotal = qtdLatas * precoLata\n",
        "\n",
        "print('')\n",
        "print('Você irá precisar de {:.1f} latas de tinta.'.format(qtdLatas))\n",
        "print('O preço total é de R${:.2f}.'.format(precoTotal))\n"
      ],
      "execution_count": null,
      "outputs": [
        {
          "output_type": "stream",
          "name": "stdout",
          "text": [
            "Qual o tamanho em metros quadrados da area a ser pintada? 200\n",
            "\n",
            "Você irá precisar de 3.7 latas de tinta.\n",
            "O preço total é de R$296.30.\n"
          ]
        }
      ]
    },
    {
      "cell_type": "markdown",
      "metadata": {
        "id": "H32vYQcGAQV9"
      },
      "source": [
        "Faça um programa que peça o tamanho de um arquivo para download (em MB) e a velocidade de um link de Internet (em Mbps), calcule e informe o tempo aproximado de download do arquivo usando este link (em minutos)."
      ]
    },
    {
      "cell_type": "code",
      "metadata": {
        "id": "Ajfkz7TLAUIF",
        "colab": {
          "base_uri": "https://localhost:8080/"
        },
        "outputId": "64cd3537-e46a-4916-96cd-8a79c1b89b92"
      },
      "source": [
        "tamanhoArquivo = float(input('Informe o tamanho de um arquivo para download em MB: '))\n",
        "velocidadeInternet = float(input('\\nInforme a velocidade de Internet em Mbps: '))\n",
        "\n",
        "resultado = tamanhoArquivo / (velocidadeInternet * 60)\n",
        "\n",
        "print('O tempo aproximado para download deste arquivo será: {:.3f} minutos'.format(resultado))"
      ],
      "execution_count": null,
      "outputs": [
        {
          "output_type": "stream",
          "name": "stdout",
          "text": [
            "Informe o tamanho de um arquivo para download em MB: 1040\n",
            "\n",
            "Informe a velocidade de Internet em Mbps: 200\n",
            "O tempo aproximado para download deste arquivo será: 0.087 minutos\n"
          ]
        }
      ]
    }
  ]
}